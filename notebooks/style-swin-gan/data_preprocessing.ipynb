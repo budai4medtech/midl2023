{
 "cells": [
  {
   "cell_type": "markdown",
   "id": "c4a4c5a5-bc75-4f92-840d-0d75ef37fb61",
   "metadata": {},
   "source": [
    "\n",
    "## Data Preprocessing\n"
   ]
  },
  {
   "cell_type": "markdown",
   "id": "892b207f-2799-47ed-af54-a82f4b770f41",
   "metadata": {},
   "source": [
    "**Author(s):** Zhanxiang (Sean) Sun [@seansunn](https://github.com/seansunn)\n",
    "\n",
    "**Contributor(s):** Harvey Mannering [@harveymannering](https://github.com/harveymannering) and Miguel Xochicale [@mxochicale](https://github.com/mxochicale)\n",
    "\n",
    "\n",
    "### Introduction\n",
    "This notebook filters out unwanted images by plane and machine. The kept images are from Trans-thalamic, Trans-cerebellum, and Trans-ventricular planes, and from machine Voluson E6.\n",
    "\n",
    "### Running notebook\n",
    "Go to repository path: `cd $HOME/repositories/budai4medtech/midl2023/notebooks`   \n",
    "Open repo in pycharm and in the terminal type:\n",
    "```\n",
    "git checkout master # or the branch\n",
    "git pull # to bring a local branch up-to-date with its remote version\n",
    "```\n",
    "Launch Notebook server:\n",
    "```\n",
    "conda activate febusisVE\n",
    "jupyter notebook --browser=firefox\n",
    "```\n",
    "which will open your web-browser.\n",
    "\n",
    "\n",
    "### Logbook\n",
    "* [DATE]: Short description of the update\n",
    "\n",
    "\n",
    "### References\n",
    "* FETAL_PLANES_DB: Common maternal-fetal ultrasound images.    \n",
    "The final dataset is comprised of over 12,400 images from 1,792 patients. \n",
    "https://zenodo.org/record/3904280\n"
   ]
  },
  {
   "cell_type": "code",
   "execution_count": 1,
   "id": "2ce229f2-1541-4b7c-9838-91552842aa05",
   "metadata": {
    "tags": []
   },
   "outputs": [],
   "source": [
    "import os\n",
    "import zipfile\n",
    "import torch\n",
    "from torchvision.transforms import Compose, Resize, ToTensor\n",
    "import numpy as np\n",
    "import pandas as pd\n",
    "from PIL import Image\n",
    "import matplotlib.pyplot as plt\n",
    "np.random.seed(seed=42)\n",
    "%matplotlib inline\n"
   ]
  },
  {
   "cell_type": "code",
   "execution_count": 2,
   "id": "b16c691a-b454-4963-b087-ca9aa1355544",
   "metadata": {
    "tags": []
   },
   "outputs": [
    {
     "data": {
      "text/html": [
       "<div>\n",
       "<style scoped>\n",
       "    .dataframe tbody tr th:only-of-type {\n",
       "        vertical-align: middle;\n",
       "    }\n",
       "\n",
       "    .dataframe tbody tr th {\n",
       "        vertical-align: top;\n",
       "    }\n",
       "\n",
       "    .dataframe thead th {\n",
       "        text-align: right;\n",
       "    }\n",
       "</style>\n",
       "<table border=\"1\" class=\"dataframe\">\n",
       "  <thead>\n",
       "    <tr style=\"text-align: right;\">\n",
       "      <th></th>\n",
       "      <th>Image_name</th>\n",
       "      <th>Patient_num</th>\n",
       "      <th>Plane</th>\n",
       "      <th>Brain_plane</th>\n",
       "      <th>Operator</th>\n",
       "      <th>US_Machine</th>\n",
       "      <th>Train</th>\n",
       "    </tr>\n",
       "  </thead>\n",
       "  <tbody>\n",
       "    <tr>\n",
       "      <th>0</th>\n",
       "      <td>Patient00001_Plane1_1_of_15</td>\n",
       "      <td>1</td>\n",
       "      <td>Other</td>\n",
       "      <td>Not A Brain</td>\n",
       "      <td>Other</td>\n",
       "      <td>Aloka</td>\n",
       "      <td>1</td>\n",
       "    </tr>\n",
       "    <tr>\n",
       "      <th>1</th>\n",
       "      <td>Patient00001_Plane1_2_of_15</td>\n",
       "      <td>1</td>\n",
       "      <td>Other</td>\n",
       "      <td>Not A Brain</td>\n",
       "      <td>Other</td>\n",
       "      <td>Aloka</td>\n",
       "      <td>1</td>\n",
       "    </tr>\n",
       "    <tr>\n",
       "      <th>2</th>\n",
       "      <td>Patient00001_Plane1_3_of_15</td>\n",
       "      <td>1</td>\n",
       "      <td>Other</td>\n",
       "      <td>Not A Brain</td>\n",
       "      <td>Other</td>\n",
       "      <td>Aloka</td>\n",
       "      <td>1</td>\n",
       "    </tr>\n",
       "    <tr>\n",
       "      <th>3</th>\n",
       "      <td>Patient00001_Plane1_4_of_15</td>\n",
       "      <td>1</td>\n",
       "      <td>Other</td>\n",
       "      <td>Not A Brain</td>\n",
       "      <td>Other</td>\n",
       "      <td>Aloka</td>\n",
       "      <td>1</td>\n",
       "    </tr>\n",
       "    <tr>\n",
       "      <th>4</th>\n",
       "      <td>Patient00001_Plane1_5_of_15</td>\n",
       "      <td>1</td>\n",
       "      <td>Other</td>\n",
       "      <td>Not A Brain</td>\n",
       "      <td>Other</td>\n",
       "      <td>Aloka</td>\n",
       "      <td>1</td>\n",
       "    </tr>\n",
       "  </tbody>\n",
       "</table>\n",
       "</div>"
      ],
      "text/plain": [
       "                    Image_name  Patient_num  Plane  Brain_plane Operator  \\\n",
       "0  Patient00001_Plane1_1_of_15            1  Other  Not A Brain    Other   \n",
       "1  Patient00001_Plane1_2_of_15            1  Other  Not A Brain    Other   \n",
       "2  Patient00001_Plane1_3_of_15            1  Other  Not A Brain    Other   \n",
       "3  Patient00001_Plane1_4_of_15            1  Other  Not A Brain    Other   \n",
       "4  Patient00001_Plane1_5_of_15            1  Other  Not A Brain    Other   \n",
       "\n",
       "  US_Machine  Train   \n",
       "0      Aloka       1  \n",
       "1      Aloka       1  \n",
       "2      Aloka       1  \n",
       "3      Aloka       1  \n",
       "4      Aloka       1  "
      ]
     },
     "execution_count": 2,
     "metadata": {},
     "output_type": "execute_result"
    }
   ],
   "source": [
    "# load csv\n",
    "df = pd.read_csv('FETAL_PLANES_DB_data.csv', delimiter=';')\n",
    "df.head()\n"
   ]
  },
  {
   "cell_type": "code",
   "execution_count": 3,
   "id": "abaec04c-f816-4882-89b1-bba6f82c2543",
   "metadata": {
    "tags": []
   },
   "outputs": [
    {
     "data": {
      "text/plain": [
       "array(['Trans-thalamic', 'Trans-cerebellum', 'Trans-ventricular', 'Other'],\n",
       "      dtype=object)"
      ]
     },
     "execution_count": 3,
     "metadata": {},
     "output_type": "execute_result"
    }
   ],
   "source": [
    "# subsetting the rows related to 'Fetal brain'\n",
    "df = df[df['Plane'] == 'Fetal brain']\n",
    "\n",
    "# check unique categories under brain plane\n",
    "df['Brain_plane'].unique()\n"
   ]
  },
  {
   "cell_type": "code",
   "execution_count": 4,
   "id": "62b7fc22-8e5d-4452-9774-cf83000c89ed",
   "metadata": {
    "tags": []
   },
   "outputs": [
    {
     "data": {
      "text/plain": [
       "array(['Aloka', 'Voluson E6', 'Voluson S10', 'Other'], dtype=object)"
      ]
     },
     "execution_count": 4,
     "metadata": {},
     "output_type": "execute_result"
    }
   ],
   "source": [
    "# check unique categories under machine\n",
    "df['US_Machine'].unique()\n"
   ]
  },
  {
   "cell_type": "code",
   "execution_count": 5,
   "id": "24a04032-8fe5-4be0-ac73-9ff3c50d48d0",
   "metadata": {
    "tags": []
   },
   "outputs": [
    {
     "data": {
      "text/html": [
       "<div>\n",
       "<style scoped>\n",
       "    .dataframe tbody tr th:only-of-type {\n",
       "        vertical-align: middle;\n",
       "    }\n",
       "\n",
       "    .dataframe tbody tr th {\n",
       "        vertical-align: top;\n",
       "    }\n",
       "\n",
       "    .dataframe thead th {\n",
       "        text-align: right;\n",
       "    }\n",
       "</style>\n",
       "<table border=\"1\" class=\"dataframe\">\n",
       "  <thead>\n",
       "    <tr style=\"text-align: right;\">\n",
       "      <th></th>\n",
       "      <th>Image_name</th>\n",
       "      <th>Brain_plane</th>\n",
       "      <th>US_Machine</th>\n",
       "    </tr>\n",
       "  </thead>\n",
       "  <tbody>\n",
       "    <tr>\n",
       "      <th>0</th>\n",
       "      <td>Patient00168_Plane3_1_of_3</td>\n",
       "      <td>Trans-thalamic</td>\n",
       "      <td>Aloka</td>\n",
       "    </tr>\n",
       "    <tr>\n",
       "      <th>1</th>\n",
       "      <td>Patient00168_Plane3_2_of_3</td>\n",
       "      <td>Trans-thalamic</td>\n",
       "      <td>Aloka</td>\n",
       "    </tr>\n",
       "    <tr>\n",
       "      <th>2</th>\n",
       "      <td>Patient00168_Plane3_3_of_3</td>\n",
       "      <td>Trans-cerebellum</td>\n",
       "      <td>Aloka</td>\n",
       "    </tr>\n",
       "    <tr>\n",
       "      <th>3</th>\n",
       "      <td>Patient00188_Plane3_1_of_3</td>\n",
       "      <td>Trans-thalamic</td>\n",
       "      <td>Aloka</td>\n",
       "    </tr>\n",
       "    <tr>\n",
       "      <th>4</th>\n",
       "      <td>Patient00188_Plane3_2_of_3</td>\n",
       "      <td>Trans-ventricular</td>\n",
       "      <td>Aloka</td>\n",
       "    </tr>\n",
       "  </tbody>\n",
       "</table>\n",
       "</div>"
      ],
      "text/plain": [
       "                   Image_name        Brain_plane US_Machine\n",
       "0  Patient00168_Plane3_1_of_3     Trans-thalamic      Aloka\n",
       "1  Patient00168_Plane3_2_of_3     Trans-thalamic      Aloka\n",
       "2  Patient00168_Plane3_3_of_3   Trans-cerebellum      Aloka\n",
       "3  Patient00188_Plane3_1_of_3     Trans-thalamic      Aloka\n",
       "4  Patient00188_Plane3_2_of_3  Trans-ventricular      Aloka"
      ]
     },
     "execution_count": 5,
     "metadata": {},
     "output_type": "execute_result"
    }
   ],
   "source": [
    "# remove the 'Other'\n",
    "df = df[(df['Brain_plane']!='Other') & (df['US_Machine']!='Other')].reset_index()\n",
    "\n",
    "# keep necessary columns\n",
    "df = df[['Image_name', 'Brain_plane', 'US_Machine']]\n",
    "df.head()\n"
   ]
  },
  {
   "cell_type": "code",
   "execution_count": 6,
   "id": "e78f8fb4-5c92-49b1-a2d2-b485199b66cc",
   "metadata": {
    "tags": []
   },
   "outputs": [],
   "source": [
    "def train_test_split(lst):\n",
    "    # 80-20 split\n",
    "    split_len = int(len(lst) * 0.8)\n",
    "    np.random.shuffle(lst)\n",
    "    return lst[:split_len], lst[split_len:]\n",
    "\n",
    "\n",
    "def get_data(df, plane, machine='Voluson E6'):\n",
    "    new_df = df[(df['Brain_plane']==plane) & (df['US_Machine']==machine)]\n",
    "    new_df = new_df['Image_name'].to_numpy()\n",
    "    train, test = train_test_split(new_df)\n",
    "    return train, test\n"
   ]
  },
  {
   "cell_type": "code",
   "execution_count": 7,
   "id": "1fe66c7d-766a-429b-af4b-5b0ccf7f6705",
   "metadata": {
    "tags": []
   },
   "outputs": [],
   "source": [
    "train_list = []\n",
    "test_list = []\n",
    "\n",
    "for i in df['Brain_plane'].unique():\n",
    "    train, test = get_data(df, i)\n",
    "    np.save(f'{i}.npy', train)\n",
    "    train_list.extend(train)\n",
    "    test_list.append(test)\n"
   ]
  },
  {
   "cell_type": "code",
   "execution_count": 8,
   "id": "221464a8-0d11-400f-b45f-400c2840a2e8",
   "metadata": {
    "tags": []
   },
   "outputs": [],
   "source": [
    "# pack test images to tensor for the convenience of calculating FID\n",
    "# already expanded to 3 channels\n",
    "def get_tensor(plane_name, img_names, size=256):\n",
    "    tensor_list = []\n",
    "    transforms = Compose([\n",
    "        Resize((size, size)),\n",
    "        ToTensor()\n",
    "        ])\n",
    "\n",
    "    for i in img_names:\n",
    "        img = Image.open(f'Images/{i}.png')\n",
    "        x = transforms(img)\n",
    "        x = x.type(torch.uint8)\n",
    "        x = x.unsqueeze(0)\n",
    "        x = x.repeat(1, 3, 1, 1)\n",
    "        tensor_list.append(x)\n",
    "    tensor_cat = torch.cat(tensor_list, 0)\n",
    "    file_name = f'{plane_name}.pt'\n",
    "    torch.save(tensor_cat, f'{plane_name}.pt')\n",
    "    print(f'File name: {file_name}\\nTensor shape: {tensor_cat.size()}\\n')\n"
   ]
  },
  {
   "cell_type": "code",
   "execution_count": 9,
   "id": "495940b8-a550-4ae1-a8b4-108631abe51e",
   "metadata": {
    "tags": []
   },
   "outputs": [
    {
     "name": "stdout",
     "output_type": "stream",
     "text": [
      "File name: Trans-thalamic.pt\n",
      "Tensor shape: torch.Size([215, 3, 256, 256])\n",
      "\n",
      "File name: Trans-cerebellum.pt\n",
      "Tensor shape: torch.Size([99, 3, 256, 256])\n",
      "\n",
      "File name: Trans-ventricular.pt\n",
      "Tensor shape: torch.Size([82, 3, 256, 256])\n",
      "\n"
     ]
    }
   ],
   "source": [
    "for i in range(3):\n",
    "    plane_name = df['Brain_plane'].unique()[i]\n",
    "    get_tensor(plane_name, test_list[i])\n"
   ]
  },
  {
   "cell_type": "code",
   "execution_count": 10,
   "id": "58209d4f-f61c-44e5-85ad-6ca3f27047ba",
   "metadata": {
    "tags": []
   },
   "outputs": [],
   "source": [
    "# zip the train images for upload purpose\n",
    "with zipfile.ZipFile('data.zip', 'w') as myzip:\n",
    "    for i in train_list:\n",
    "        file_path = f'Images/{i}.png'\n",
    "        myzip.write(file_path)\n"
   ]
  },
  {
   "cell_type": "code",
   "execution_count": null,
   "id": "4b476a7f-5c87-4b68-ac0c-2bb2a8d9a0db",
   "metadata": {},
   "outputs": [],
   "source": []
  }
 ],
 "metadata": {
  "kernelspec": {
   "display_name": "Python 3 (ipykernel)",
   "language": "python",
   "name": "python3"
  },
  "language_info": {
   "codemirror_mode": {
    "name": "ipython",
    "version": 3
   },
   "file_extension": ".py",
   "mimetype": "text/x-python",
   "name": "python",
   "nbconvert_exporter": "python",
   "pygments_lexer": "ipython3",
   "version": "3.10.10"
  }
 },
 "nbformat": 4,
 "nbformat_minor": 5
}
